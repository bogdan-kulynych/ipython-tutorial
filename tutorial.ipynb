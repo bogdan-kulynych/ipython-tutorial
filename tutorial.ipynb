{
 "metadata": {
  "name": "",
  "signature": "sha256:bdc36d5c78e68752165b61419789652774090652b269650f53837872107ed214"
 },
 "nbformat": 3,
 "nbformat_minor": 0,
 "worksheets": [
  {
   "cells": [
    {
     "cell_type": "markdown",
     "metadata": {},
     "source": [
      "# Installation\n",
      "\n",
      "### Debian or Ubuntu\n",
      "\n",
      "Installing IPython, including the notebook and some useful libraries:\n",
      "```\n",
      "sudo apt-get install python-numpy python-matplotlib python-scipy ipython ipython-notebook\n",
      "```\n",
      "\n",
      "Or you can use Anaconda too (see Windows and Mac below)\n",
      "\n",
      "### Windows and Mac\n",
      "\n",
      "Go to the Anaconda site and download the appropriate distribution: [continuum.io/downloads](http://continuum.io/downloads#all). \n",
      "\n",
      "After installing Anaconda, open a terminal and type\n",
      "```\n",
      "conda update conda\n",
      "conda update ipython\n",
      "```\n",
      "\n",
      "### Arch\n",
      "\n",
      "You know how to do it.\n"
     ]
    },
    {
     "cell_type": "markdown",
     "metadata": {},
     "source": [
      "# The IPython notebook\n",
      "\n",
      "## What is it?\n",
      "\n",
      "- Interactive interface similar to Mathematica notebooks\n",
      "- Consists of cells that can be evaluated\n",
      "- Can contain text (markdown) or Python code\n",
      "- Output (data and plots) is displayed after evaluating a cell\n",
      "\n",
      "## What is it good for?\n",
      "\n",
      "- Collaborating with others\n",
      "- Handing in assignments\n",
      "- Demonstrating a concept or piece of code\n",
      "- Exploring and analyzing data\n",
      "- Tutorials!\n",
      "\n",
      "## How do I use it?\n",
      "\n",
      "- Click on a cell\n",
      "- Type code\n",
      "- Press Shift+Enter to evaluate\n",
      "- ???\n",
      "- Results!\n",
      "\n",
      "## Some interesting features\n",
      "\n",
      "- Graphics can be displayed inline\n",
      "  - Think of plots and image processing results!\n",
      "- Convert the notebook to HTML and put it online (see: [http://nbviewer.ipython.org/]())\n",
      "- You can print the notebook!\n"
     ]
    },
    {
     "cell_type": "markdown",
     "metadata": {},
     "source": [
      "# Starting the notebook\n",
      "\n",
      "In your terminal type\n",
      "\n",
      "```\n",
      "ipython notebook\n",
      "```\n",
      "\n",
      "This will start the notebook server listening on `localhost:8888`.\n",
      "\n",
      "If everything is fine, you will be able to go to [localhost:8888](http://localhost:8888) in your browser and see the IPython notebook folder view.\n",
      "\n",
      "Click a 'New notebook' button to create a new notebook."
     ]
    },
    {
     "cell_type": "code",
     "collapsed": false,
     "input": [
      "# Show plots directly in the notebook\n",
      "%matplotlib inline"
     ],
     "language": "python",
     "metadata": {},
     "outputs": [],
     "prompt_number": 1
    },
    {
     "cell_type": "code",
     "collapsed": false,
     "input": [
      "# Let's import some libraries and introduce abbreviations\n",
      "import numpy as np\n",
      "import scipy as sp\n",
      "import scipy.stats as stats\n",
      "from matplotlib import pyplot as plt"
     ],
     "language": "python",
     "metadata": {},
     "outputs": [],
     "prompt_number": 2
    },
    {
     "cell_type": "markdown",
     "metadata": {},
     "source": [
      "# -1 - Familiarizing yourself with the Notebook"
     ]
    },
    {
     "cell_type": "code",
     "collapsed": false,
     "input": [
      "# You can write Python code in the cells\n",
      "# The value of the last expression will be displayed\n",
      "\n",
      "y = 13660584\n",
      "x = 325252\n",
      "y / x"
     ],
     "language": "python",
     "metadata": {},
     "outputs": [
      {
       "metadata": {},
       "output_type": "pyout",
       "prompt_number": 3,
       "text": [
        "42"
       ]
      }
     ],
     "prompt_number": 3
    },
    {
     "cell_type": "code",
     "collapsed": false,
     "input": [
      "# You can import modules, define functions, as usual\n",
      "\n",
      "from math import sin, pi\n",
      "\n",
      "sin(pi/2)**2"
     ],
     "language": "python",
     "metadata": {},
     "outputs": [
      {
       "metadata": {},
       "output_type": "pyout",
       "prompt_number": 4,
       "text": [
        "1.0"
       ]
      }
     ],
     "prompt_number": 4
    },
    {
     "cell_type": "code",
     "collapsed": false,
     "input": [
      "def double(x):\n",
      "    return 2 * x\n",
      "\n",
      "double(21)"
     ],
     "language": "python",
     "metadata": {},
     "outputs": [
      {
       "metadata": {},
       "output_type": "pyout",
       "prompt_number": 5,
       "text": [
        "42"
       ]
      }
     ],
     "prompt_number": 5
    },
    {
     "cell_type": "markdown",
     "metadata": {},
     "source": [
      "# 0 - A few basic plots\n",
      "\n",
      "We can use the [matplotlib library](http://matplotlib.org/) to create beautiful plots and visualizations.\n",
      "\n",
      "Let's start by plotting some points and lines.\n",
      "\n",
      "A lot of this should be familiar to Matlab users.\n",
      "\n",
      "Documentation: [http://matplotlib.org/api/pyplot_api.html]()"
     ]
    },
    {
     "cell_type": "code",
     "collapsed": false,
     "input": [
      "# Points to draw\n",
      "xs = [0.5, 0.2, 0.3]\n",
      "ys = [2,   3,   5  ]\n",
      "\n",
      "# Set horizontal limits of plot\n",
      "plt.xlim(-1, 1)\n",
      "\n",
      "# Set vertical limits of plot\n",
      "plt.ylim(-5, 7)\n",
      "\n",
      "# Plot the points without connecting lines, shown as red circles and labeled 'first dots'\n",
      "plt.plot(xs, ys, linestyle='', marker='o', label='first dots', color='red')\n",
      "\n",
      "# More points to draw\n",
      "ms = [-0.8, -0.7, 0]\n",
      "ns = [-2,   -1, -2]\n",
      "size = [50, 100, 300]\n",
      "\n",
      "# The same as the `plot` above, but we change the marker and marker size\n",
      "plt.scatter(ms, ns, s=size, marker='.', label='second dots', color='blue')\n",
      "\n",
      "# Shows the labels\n",
      "plt.legend(loc='best')\n",
      "\n",
      "plt.show()"
     ],
     "language": "python",
     "metadata": {},
     "outputs": [
      {
       "metadata": {},
       "output_type": "display_data",
       "png": "[encoded data removed]",
       "text": [
        "<matplotlib.figure.Figure at 0x7f8ea423d850>"
       ]
      }
     ],
     "prompt_number": 6
    },
    {
     "cell_type": "markdown",
     "metadata": {},
     "source": [
      "Ok, drawing points is nice, but how do I draw a continuous function?\n",
      "\n",
      "Use the same command (`plot`), but use a lot of points and connect them with lines."
     ]
    },
    {
     "cell_type": "code",
     "collapsed": false,
     "input": [
      "# Create array of equally spaced x-coordinates\n",
      "xs = np.linspace(0, 10, 1000)\n",
      "\n",
      "# Numpy arrays can be treated like scalars\n",
      "# The operation is applied to every element!\n",
      "ys = np.sin(xs) + 1\n",
      "\n",
      "# Make a continuous plot by connecting densely spaced points with lines\n",
      "plt.plot(xs, ys)\n",
      "\n",
      "# Let's fill the region\n",
      "plt.fill_between(xs[200:300], ys[200:300], color='pink', alpha=0.8)\n",
      "\n",
      "plt.show()"
     ],
     "language": "python",
     "metadata": {},
     "outputs": [
      {
       "metadata": {},
       "output_type": "display_data",
       "png": "[encoded data removed]",
       "text": [
        "<matplotlib.figure.Figure at 0x7f8ea4203110>"
       ]
      }
     ],
     "prompt_number": 7
    },
    {
     "cell_type": "markdown",
     "metadata": {},
     "source": [
      "# 1 - Fitting Distributions\n",
      "Generate normally distributed data, fit parameters using MLE and plot the results."
     ]
    },
    {
     "cell_type": "code",
     "collapsed": false,
     "input": [
      "# Generate normally distributed data\n",
      "data = np.random.randn(1000)"
     ],
     "language": "python",
     "metadata": {},
     "outputs": [],
     "prompt_number": 8
    },
    {
     "cell_type": "code",
     "collapsed": false,
     "input": [
      "# Plot data\n",
      "plt.hist(data, bins=15, histtype='step', color='black', normed=True, lw=2)\n",
      "\n",
      "# Fit parameters using scipy\n",
      "mu, sigma = stats.norm.fit(data)\n",
      "\n",
      "# Plot estimated distribution\n",
      "xs = np.linspace(-4, 4, 1000)\n",
      "plt.plot(xs, stats.norm.pdf(xs, mu, sigma), lw=2)\n",
      "\n",
      "plt.xlim(-5, 5)\n",
      "plt.show()"
     ],
     "language": "python",
     "metadata": {},
     "outputs": [
      {
       "metadata": {},
       "output_type": "display_data",
       "png": "[encoded data removed]",
       "text": [
        "<matplotlib.figure.Figure at 0x7f8ea41d5510>"
       ]
      }
     ],
     "prompt_number": 9
    },
    {
     "cell_type": "markdown",
     "metadata": {},
     "source": [
      "**Note for physicists:**\n",
      "\n",
      "Of course, this is not powerful enough for a real physics analysis.\n",
      "\n",
      "When doing a real physics analysis, you could access the [RooFit](http://root.cern.ch/drupal/content/roofit) package through PyROOT.\n",
      "\n",
      "It allows you to define very complex probability models and performs ML estimates with Minuit."
     ]
    },
    {
     "cell_type": "markdown",
     "metadata": {},
     "source": [
      "## 2 Fitting Functions\n",
      "Generate data and fit parameters"
     ]
    },
    {
     "cell_type": "code",
     "collapsed": false,
     "input": [
      "xs = np.linspace(0, 5, 20)\n",
      "# f(x) = -5x^2 + x^3\n",
      "# We add some normally distributed noise to the y-values\n",
      "ys = -5 * xs**2 + xs**3 + 2 * np.random.randn(20)"
     ],
     "language": "python",
     "metadata": {},
     "outputs": [],
     "prompt_number": 10
    },
    {
     "cell_type": "code",
     "collapsed": false,
     "input": [
      "plt.plot(xs, ys, 'ro')\n",
      "plt.show()"
     ],
     "language": "python",
     "metadata": {},
     "outputs": [
      {
       "metadata": {},
       "output_type": "display_data",
       "png": "[encoded data removed]",
       "text": [
        "<matplotlib.figure.Figure at 0x7f8ea41eb990>"
       ]
      }
     ],
     "prompt_number": 11
    },
    {
     "cell_type": "code",
     "collapsed": false,
     "input": [
      "# Of course, solving it analytically would be nicer, but this is more general...\n",
      "def hypothesis(x, a, b, c, d):\n",
      "    return a + b * x + c * x**2 + d * x**3\n",
      "\n",
      "# scipy has a function for fitting parameters with least squares\n",
      "popt, pcov = sp.optimize.curve_fit(hypothesis, xs, ys, p0=[1, 1, 1, 1])\n",
      "# Let's look at the return values:\n",
      "popt, pcov"
     ],
     "language": "python",
     "metadata": {},
     "outputs": [
      {
       "metadata": {},
       "output_type": "pyout",
       "prompt_number": 12,
       "text": [
        "(array([ 0.93468793,  1.29265014, -5.98588272,  1.150539  ]),\n",
        " array([[  5.77955165,  -8.39925328,   3.26854159,  -0.37155222],\n",
        "        [ -8.39925328,  18.26405849,  -8.30008141,   1.02529002],\n",
        "        [  3.26854159,  -8.30008141,   4.06709241,  -0.52600151],\n",
        "        [ -0.37155222,   1.02529002,  -0.52600151,   0.07013354]]))"
       ]
      }
     ],
     "prompt_number": 12
    },
    {
     "cell_type": "code",
     "collapsed": false,
     "input": [
      "# Let's plot the fitted function\n",
      "xs_h = np.linspace(0, 5, 1000)\n",
      "plt.plot(xs_h, hypothesis(xs_h, *popt))\n",
      "plt.errorbar(xs, ys, 2, fmt='ro')\n",
      "plt.xlim(0, 5)\n",
      "plt.show()"
     ],
     "language": "python",
     "metadata": {},
     "outputs": [
      {
       "metadata": {},
       "output_type": "display_data",
       "png": "[encoded data removed]",
       "text": [
        "<matplotlib.figure.Figure at 0x7f8ea41a7a90>"
       ]
      }
     ],
     "prompt_number": 13
    },
    {
     "cell_type": "markdown",
     "metadata": {},
     "source": [
      "# 3 - Importing data from ROOT"
     ]
    },
    {
     "cell_type": "markdown",
     "metadata": {},
     "source": [
      "Let's use the excellent `root_numpy` library!\n",
      "```\n",
      "pip install --user root_numpy\n",
      "```\n",
      "(ROOT needs to be installed)\n",
      "\n",
      "It can load ROOT files (standard HEP data format) as numpy arrays."
     ]
    },
    {
     "cell_type": "code",
     "collapsed": false,
     "input": [
      "from root_numpy import root2rec\n",
      "\n",
      "# Load data from ROOT file\n",
      "dset = root2rec('./test.root')"
     ],
     "language": "python",
     "metadata": {},
     "outputs": [],
     "prompt_number": 16
    },
    {
     "cell_type": "code",
     "collapsed": false,
     "input": [
      "# Filter data by creating a mask\n",
      "mask_time = (dset.time > 0.10) & (dset.time < 5)\n",
      "mask_mass = dset.mass > 999\n",
      "\n",
      "mask = mask_time & mask_mass\n",
      "\n",
      "# Apply mask and plot both variables\n",
      "plt.subplot(211)\n",
      "plt.hist(dset[mask]['mass'], bins=50)\n",
      "plt.xlabel('mass')\n",
      "\n",
      "# Remove annoying axis offset:\n",
      "plt.gca().get_xaxis().get_major_formatter().set_useOffset(False)\n",
      "\n",
      "plt.subplot(212)\n",
      "plt.hist(dset[mask]['time'], bins=50)\n",
      "plt.xlabel('time')\n",
      "plt.tight_layout()\n"
     ],
     "language": "python",
     "metadata": {},
     "outputs": [
      {
       "metadata": {},
       "output_type": "display_data",
       "png": "[encoded data removed]",
       "text": [
        "<matplotlib.figure.Figure at 0x7f8e9edde4d0>"
       ]
      }
     ],
     "prompt_number": 18
    },
    {
     "cell_type": "markdown",
     "metadata": {},
     "source": [
      "# What we left out...\n",
      "\n",
      "- Bayesian data analysis (PyMC)\n",
      "- Classification (scikit-learn)"
     ]
    }
   ],
   "metadata": {}
  }
 ]
}