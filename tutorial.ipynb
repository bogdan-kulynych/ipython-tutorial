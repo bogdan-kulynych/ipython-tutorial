{
 "metadata": {
  "name": "",
  "signature": "sha256:7d45355a97bf806a060107988aa3daa637914c07386ef2ff07df0b458f621e02"
 },
 "nbformat": 3,
 "nbformat_minor": 0,
 "worksheets": [
  {
   "cells": [
    {
     "cell_type": "markdown",
     "metadata": {},
     "source": [
      "# Installation\n",
      "\n",
      "### Debian or Ubuntu\n",
      "\n",
      "Installing ipython notebook\n",
      "```\n",
      "sudo pip install ipython ipython-notebook\n",
      "```\n",
      "\n",
      "All the things we will be using:\n",
      "```\n",
      "sudo apt-get install python-numpy python-matplotlib python-scipy\n",
      "sudo pip install statsmodels\n",
      "\n",
      "```\n",
      "\n",
      "Or you can use Anaconda too (see Windows and Mac below)\n",
      "\n",
      "### Windows and Mac\n",
      "\n",
      "Go to Anaconda site and download the appropriate distribution: [continuum.io/downloads](http://continuum.io/downloads#all). \n",
      "\n",
      "After installing Anaconda, open the terminal and type\n",
      "```\n",
      "conda update conda\n",
      "conda update ipython\n",
      "```\n",
      "\n",
      "### Arch\n",
      "\n",
      "You know how to do it.\n",
      "\n"
     ]
    },
    {
     "cell_type": "markdown",
     "metadata": {},
     "source": [
      "# The IPython notebook\n",
      "\n",
      "## What is it?\n",
      "\n",
      "- Interactive interface similar to Mathematica notebooks\n",
      "  - Consists of cells that can be evaluated\n",
      "- Allows you to combine text (markdown), Python code and output in one medium\n",
      "\n",
      "## What is it good for?\n",
      "\n",
      "- Collaborating with others\n",
      "- Summing up your work\n",
      "- Handing in assignments\n",
      "\n",
      "## How do I use it?\n",
      "\n",
      "- Click on a cell\n",
      "- Type code\n",
      "- Press Shift+Enter to evaluate\n",
      "- ???\n",
      "- Results!"
     ]
    },
    {
     "cell_type": "markdown",
     "metadata": {},
     "source": [
      "# Starting the notebook\n",
      "\n",
      "In your terminal type\n",
      "\n",
      "```\n",
      "ipython notebook --pylab=inline\n",
      "```\n",
      "\n",
      "This will start the notebook server listening on `localhost:8888` with interactive in-place plots.\n",
      "\n",
      "If everything is fine, you will be able to go to [localhost:8888](http://localhost:8888) in your browser and see the IPython notebook folder view.\n",
      "\n",
      "Click a 'New notebook' button to create a new notebook."
     ]
    },
    {
     "cell_type": "code",
     "collapsed": false,
     "input": [
      "# Show plots directly in the notebook\n",
      "%matplotlib inline"
     ],
     "language": "python",
     "metadata": {},
     "outputs": [],
     "prompt_number": 35
    },
    {
     "cell_type": "code",
     "collapsed": false,
     "input": [
      "# Let's import some libraries\n",
      "import numpy as np\n",
      "import scipy as sp\n",
      "import scipy.stats as stats\n",
      "from matplotlib import pyplot as plt"
     ],
     "language": "python",
     "metadata": {},
     "outputs": [],
     "prompt_number": 37
    },
    {
     "cell_type": "markdown",
     "metadata": {},
     "source": [
      "# 0 - A few basic plots\n",
      "\n",
      "Let's plot some points and lines.\n",
      "\n",
      "A lot of this should be familiar to Matlab users."
     ]
    },
    {
     "cell_type": "code",
     "collapsed": false,
     "input": [
      "# Points to draw\n",
      "xs = [0.5, 0.2, 0.3]\n",
      "ys = [2,   3,   5  ]\n",
      "\n",
      "# Set horizontal limits\n",
      "plt.xlim(-1, 1)\n",
      "\n",
      "# Set vertical limits\n",
      "plt.ylim(-5, 7)\n",
      "\n",
      "# Plot the points without connecting lines, shown as red circles and labeled 'first dots'\n",
      "plt.plot(xs, ys, linestyle='', marker='o', label='first dots', color='red')\n",
      "\n",
      "# More points to draw\n",
      "ms = [-0.8, -0.7, 0]\n",
      "ns = [-2,   -1, -2]\n",
      "\n",
      "# The same as the `plot` above, but we change the marker and marker size\n",
      "plt.scatter(ms, ns, s=50, marker='x', label='second dots', color='blue')\n",
      "\n",
      "# Shows the labels\n",
      "plt.legend(loc='best')\n",
      "\n",
      "plt.show()"
     ],
     "language": "python",
     "metadata": {},
     "outputs": [
      {
       "metadata": {},
       "output_type": "display_data",
       "png": "[encoded data removed]",
       "text": [
        "<matplotlib.figure.Figure at 0x7f50aaebd610>"
       ]
      }
     ],
     "prompt_number": 3
    },
    {
     "cell_type": "code",
     "collapsed": false,
     "input": [
      "# Create array of equally spaced x-coordinates\n",
      "xs = np.linspace(0, 10, 1000)\n",
      "\n",
      "# Numpy arrays can be treated like scalars\n",
      "# The operation is applied to every element!\n",
      "ys = np.sin(xs) + 1\n",
      "\n",
      "# Make a continuous plot by connecting densely spaced points with lines\n",
      "plt.plot(xs, ys)\n",
      "\n",
      "# Let's fill the region\n",
      "plt.fill_between(xs[200:400], ys[200:400], color='pink', alpha=0.8)\n",
      "\n",
      "plt.show()"
     ],
     "language": "python",
     "metadata": {},
     "outputs": [
      {
       "metadata": {},
       "output_type": "display_data",
       "png": "[encoded data removed]",
       "text": [
        "<matplotlib.figure.Figure at 0x7f50aaedb490>"
       ]
      }
     ],
     "prompt_number": 38
    },
    {
     "cell_type": "markdown",
     "metadata": {},
     "source": [
      "# 1 - Fitting Distributions\n",
      "Generate normally distributed data, fit parameters using MLE and plot the results."
     ]
    },
    {
     "cell_type": "code",
     "collapsed": false,
     "input": [
      "# Generate the data\n",
      "data = np.random.randn(1000)"
     ],
     "language": "python",
     "metadata": {},
     "outputs": [],
     "prompt_number": 33
    },
    {
     "cell_type": "code",
     "collapsed": false,
     "input": [
      "# Fit parameters using scipy\n",
      "mu, sigma = stats.norm.fit(data)\n",
      "\n",
      "# Plot estimated distribution\n",
      "xs = np.linspace(-4, 4, 1000)\n",
      "plt.plot(xs, stats.norm.pdf(xs, mu, sigma), lw=2)\n",
      "\n",
      "# Plot data\n",
      "plt.hist(data, bins=15, histtype='step', color='black', normed=True, lw=2)\n",
      "\n",
      "plt.xlim(-5, 5)\n",
      "plt.show()"
     ],
     "language": "python",
     "metadata": {},
     "outputs": [
      {
       "metadata": {},
       "output_type": "display_data",
       "png": "[encoded data removed]",
       "text": [
        "<matplotlib.figure.Figure at 0x7f50a5e31e90>"
       ]
      }
     ],
     "prompt_number": 34
    },
    {
     "cell_type": "markdown",
     "metadata": {},
     "source": [
      "Of course, this is not powerful enough for a real physics analysis.\n",
      "\n",
      "When doing a real physics analysis, you can access the [RooFit](http://root.cern.ch/drupal/content/roofit) package through PyROOT.\n",
      "\n",
      "It allows you to define very complex probability models and performs ML estimates via Minuit."
     ]
    },
    {
     "cell_type": "markdown",
     "metadata": {},
     "source": [
      "## 2 Fitting Functions\n",
      "Generate data and fit linear model"
     ]
    },
    {
     "cell_type": "code",
     "collapsed": false,
     "input": [
      "xs = np.linspace(0, 5, 20)\n",
      "ys = -5 * xs**2 + xs**3 + 2 * np.random.randn(20)"
     ],
     "language": "python",
     "metadata": {},
     "outputs": [],
     "prompt_number": 7
    },
    {
     "cell_type": "code",
     "collapsed": false,
     "input": [
      "plt.plot(xs, ys, 'ro')\n",
      "plt.show()"
     ],
     "language": "python",
     "metadata": {},
     "outputs": [
      {
       "metadata": {},
       "output_type": "display_data",
       "png": "[encoded data removed]",
       "text": [
        "<matplotlib.figure.Figure at 0x7f50cc1b0a50>"
       ]
      }
     ],
     "prompt_number": 26
    },
    {
     "cell_type": "code",
     "collapsed": false,
     "input": [
      "# Of course, solving it analytically would be nicer, but this is more general...\n",
      "def hypothesis(x, a, b, c, d):\n",
      "    return a + b * x + c * x**2 + d * x**3\n",
      "\n",
      "popt, pcov = sp.optimize.curve_fit(hypothesis, xs, ys, p0=[1, 1, 1, 1])"
     ],
     "language": "python",
     "metadata": {},
     "outputs": [],
     "prompt_number": 27
    },
    {
     "cell_type": "code",
     "collapsed": false,
     "input": [
      "# Let's plot the fitted function\n",
      "xs_h = np.linspace(0, 5, 1000)\n",
      "plt.plot(xs_h, hypothesis(xs_h, *popt))\n",
      "plt.errorbar(xs, ys, 2, fmt='ro')\n",
      "plt.xlim(0, 5)\n",
      "plt.show()"
     ],
     "language": "python",
     "metadata": {},
     "outputs": [
      {
       "metadata": {},
       "output_type": "display_data",
       "png": "[encoded data removed]",
       "text": [
        "<matplotlib.figure.Figure at 0x7f50aae3c750>"
       ]
      }
     ],
     "prompt_number": 29
    },
    {
     "cell_type": "markdown",
     "metadata": {},
     "source": [
      "# 3 - Importing data from ROOT"
     ]
    },
    {
     "cell_type": "markdown",
     "metadata": {},
     "source": [
      "Let's use the excellent `root_numpy` library!\n",
      "```\n",
      "pip install --user root_numpy\n",
      "```\n",
      "(ROOT needs to be installed)\n",
      "\n",
      "It can load ROOT files (standard HEP data format) as numpy arrays."
     ]
    },
    {
     "cell_type": "code",
     "collapsed": false,
     "input": [
      "from root_numpy import root2rec\n",
      "\n",
      "# Load data from ROOT file\n",
      "dset = root2rec('./test.root')"
     ],
     "language": "python",
     "metadata": {},
     "outputs": [],
     "prompt_number": 16
    },
    {
     "cell_type": "code",
     "collapsed": false,
     "input": [
      "# Filter data by creating a mask\n",
      "mask_time = (dset.time > 0.10) & (dset.time < 5)\n",
      "mask_mass = dset.mass > 999\n",
      "\n",
      "mask = mask_time & mask_mass\n",
      "\n",
      "# Apply mask and plot both variables\n",
      "plt.subplot(211)\n",
      "plt.hist(dset[mask]['mass'], bins=100)\n",
      "plt.xlabel('mass')\n",
      "\n",
      "# Remove annoying axis offset:\n",
      "plt.gca().get_xaxis().get_major_formatter().set_useOffset(False)\n",
      "\n",
      "plt.subplot(212)\n",
      "plt.hist(dset[mask]['time'], bins=100)\n",
      "plt.xlabel('time')\n",
      "plt.tight_layout()\n"
     ],
     "language": "python",
     "metadata": {},
     "outputs": [
      {
       "metadata": {},
       "output_type": "display_data",
       "png": "[encoded data removed]",
       "text": [
        "<matplotlib.figure.Figure at 0x7f50aaea36d0>"
       ]
      }
     ],
     "prompt_number": 25
    },
    {
     "cell_type": "markdown",
     "metadata": {},
     "source": [
      "# What we left out...\n",
      "\n",
      "- Bayesian data analysis (PyMC)\n",
      "- Classification (scikit-learn)"
     ]
    }
   ],
   "metadata": {}
  }
 ]
}