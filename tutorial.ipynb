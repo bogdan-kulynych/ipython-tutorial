{
 "metadata": {
  "name": "",
  "signature": "sha256:97f0375a6fa5fa1f3f7f8d42a3e4cf7e59f9a3d8384d79312f32e5725caf7a66"
 },
 "nbformat": 3,
 "nbformat_minor": 0,
 "worksheets": [
  {
   "cells": [
    {
     "cell_type": "markdown",
     "metadata": {},
     "source": [
      "Installation\n",
      "------------\n",
      "\n",
      "### Debian or Ubuntu\n",
      "\n",
      "Installing ipython notebook\n",
      "```\n",
      "sudo pip install ipython ipython-notebook\n",
      "```\n",
      "\n",
      "All the things we will be using:\n",
      "```\n",
      "sudo apt-get install python-numpy python-matplotlib python-scipy\n",
      "sudo pip install statsmodels\n",
      "\n",
      "```\n",
      "\n",
      "Or you can use Anaconda too (see Windows and Mac below)\n",
      "\n",
      "### Windows and Mac\n",
      "\n",
      "Go to Anaconda site and download the appropriate distribution: [continuum.io/downloads](http://continuum.io/downloads#all). \n",
      "\n",
      "After installing Anaconda, open the terminal and type\n",
      "```\n",
      "conda update conda\n",
      "conda update ipython\n",
      "```\n",
      "\n",
      "### Arch\n",
      "\n",
      "You know how to do it.\n",
      "\n"
     ]
    },
    {
     "cell_type": "markdown",
     "metadata": {},
     "source": [
      "Starting the notebook\n",
      "---------------------\n",
      "\n",
      "\n",
      "In your terminal type\n",
      "\n",
      "```\n",
      "ipython notebook --pylab=inline\n",
      "```\n",
      "\n",
      "This will start the notebook server listening on `localhost:8888` with interactive in-place plots.\n",
      "\n",
      "If everything is fine, you will be able to go to [localhost:8888](http://localhost:8888) in your browser and see the IPython notebook folder view.\n",
      "\n",
      "Click a 'New notebook' button to create a new notebook."
     ]
    },
    {
     "cell_type": "code",
     "collapsed": false,
     "input": [
      "%pylab inline"
     ],
     "language": "python",
     "metadata": {},
     "outputs": [
      {
       "output_type": "stream",
       "stream": "stdout",
       "text": [
        "Populating the interactive namespace from numpy and matplotlib\n"
       ]
      }
     ],
     "prompt_number": 49
    },
    {
     "cell_type": "code",
     "collapsed": false,
     "input": [
      "import numpy as np\n",
      "import scipy as sp\n",
      "from matplotlib import pyplot as plt"
     ],
     "language": "python",
     "metadata": {},
     "outputs": [],
     "prompt_number": 50
    },
    {
     "cell_type": "markdown",
     "metadata": {},
     "source": [
      "## 0\n",
      "\n",
      "Let's plot some points, lines, and labels"
     ]
    },
    {
     "cell_type": "code",
     "collapsed": false,
     "input": [
      "# Points to draw\n",
      "xs = [0.5, 0.2, 0.3]\n",
      "ys = [2,   3,   5  ]\n",
      "\n",
      "# Set horizontal limits\n",
      "plt.xlim(-1, 1)\n",
      "\n",
      "# Set vertical limits\n",
      "plt.ylim(-5, 7)\n",
      "\n",
      "# Plot the points without connecting lines, shown as red circles and labeled 'first dots'\n",
      "plt.plot(xs, ys, linestyle='', marker='o', label='first dots', color='red')\n",
      "\n",
      "# Another points to draw\n",
      "ms = [-0.8, -0.7, 0]\n",
      "ns = [-2,   -1, -2]\n",
      "\n",
      "# The same as the `plot` above, but we can control the marker size\n",
      "plt.scatter(ms, ns, s=50, marker='x', label='second dots', color='blue')\n",
      "\n",
      "# Shows the labels\n",
      "plt.legend(loc='best')\n",
      "\n",
      "plt.show()"
     ],
     "language": "python",
     "metadata": {},
     "outputs": [
      {
       "metadata": {},
       "output_type": "display_data",
       "png": "[encoded data removed]",
       "text": [
        "<matplotlib.figure.Figure at 0x7fd7d0c75ba8>"
       ]
      }
     ],
     "prompt_number": 51
    },
    {
     "cell_type": "code",
     "collapsed": false,
     "input": [
      "xs = np.linspace(0, 10, 1000)\n",
      "ys = np.sin(xs) + 1\n",
      "\n",
      "# Make a continuous plot\n",
      "plt.plot(xs, ys)\n",
      "\n",
      "# Let's fill the region\n",
      "plt.fill_between(xs[200:400], ys[200:400], color='pink', alpha=0.8)\n",
      "\n",
      "plt.show()"
     ],
     "language": "python",
     "metadata": {},
     "outputs": [
      {
       "metadata": {},
       "output_type": "display_data",
       "png": "[encoded data removed]",
       "text": [
        "<matplotlib.figure.Figure at 0x7fd7d0c89b38>"
       ]
      }
     ],
     "prompt_number": 52
    },
    {
     "cell_type": "markdown",
     "metadata": {},
     "source": [
      "## 1\n",
      "Generate normally distributed data, fit parameters using MLE and plot the results."
     ]
    },
    {
     "cell_type": "code",
     "collapsed": false,
     "input": [
      "# Generate the data\n",
      "data = np.random.randn(1000)"
     ],
     "language": "python",
     "metadata": {},
     "outputs": [],
     "prompt_number": 53
    },
    {
     "cell_type": "code",
     "collapsed": false,
     "input": [
      "# Fit parameters using scipy\n",
      "mu, sigma = sp.stats.norm.fit(data)\n",
      "\n",
      "# Plot estimated distribution\n",
      "xs = np.linspace(-4, 4, 1000)\n",
      "plt.plot(xs, stats.norm.pdf(xs, mu, sigma))\n",
      "\n",
      "# Plot data\n",
      "plt.hist(data, bins=15, histtype='step', color='black', normed=True)\n",
      "\n",
      "plt.xlim(-5, 5)\n",
      "plt.show()"
     ],
     "language": "python",
     "metadata": {},
     "outputs": [
      {
       "metadata": {},
       "output_type": "display_data",
       "png": "[encoded data removed]",
       "text": [
        "<matplotlib.figure.Figure at 0x7fd7d0d550f0>"
       ]
      }
     ],
     "prompt_number": 54
    },
    {
     "cell_type": "markdown",
     "metadata": {},
     "source": [
      "## 2\n",
      "Generate data and fit linear model"
     ]
    },
    {
     "cell_type": "code",
     "collapsed": false,
     "input": [
      "xs = np.linspace(0, 5, 20)\n",
      "ys = -5 * xs**2 + xs**3 + 2 * np.random.randn(20)"
     ],
     "language": "python",
     "metadata": {},
     "outputs": [],
     "prompt_number": 55
    },
    {
     "cell_type": "code",
     "collapsed": false,
     "input": [
      "plt.plot(xs, ys, 'ro')\n",
      "plt.show()"
     ],
     "language": "python",
     "metadata": {},
     "outputs": [
      {
       "metadata": {},
       "output_type": "display_data",
       "png": "[encoded data removed]",
       "text": [
        "<matplotlib.figure.Figure at 0x7fd7da2bc7f0>"
       ]
      }
     ],
     "prompt_number": 56
    },
    {
     "cell_type": "code",
     "collapsed": false,
     "input": [
      "# Of course, solving it analytically would be nicer, but this is more general...\n",
      "def hypothesis(x, a, b, c, d):\n",
      "    return a + b * x + c * x**2 + d * x**3\n",
      "\n",
      "popt, pcov = sp.optimize.curve_fit(hypothesis, xs, ys, p0=[1, 1, 1, 1])"
     ],
     "language": "python",
     "metadata": {},
     "outputs": [],
     "prompt_number": 62
    },
    {
     "cell_type": "code",
     "collapsed": false,
     "input": [
      "xs_h = np.linspace(0, 5, 1000)\n",
      "plt.plot(xs_h, hypothesis(xs_h, *popt))\n",
      "plt.errorbar(xs, ys, 2, fmt='ro')\n",
      "plt.xlim(0, 5)\n",
      "plt.show()"
     ],
     "language": "python",
     "metadata": {},
     "outputs": [
      {
       "metadata": {},
       "output_type": "display_data",
       "png": "[encoded data removed]",
       "text": [
        "<matplotlib.figure.Figure at 0x7fd7d0c1fcf8>"
       ]
      }
     ],
     "prompt_number": 81
    },
    {
     "cell_type": "markdown",
     "metadata": {},
     "source": [
      "## 3"
     ]
    },
    {
     "cell_type": "code",
     "collapsed": false,
     "input": [],
     "language": "python",
     "metadata": {},
     "outputs": []
    }
   ],
   "metadata": {}
  }
 ]
}