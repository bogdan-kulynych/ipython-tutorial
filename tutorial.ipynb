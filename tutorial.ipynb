{
 "metadata": {
  "name": "",
  "signature": "sha256:3818502f64db5c8a6b9e7f87183dfc512ca35884e09c3c26c82c4db2a76afa79"
 },
 "nbformat": 3,
 "nbformat_minor": 0,
 "worksheets": [
  {
   "cells": [
    {
     "cell_type": "markdown",
     "metadata": {},
     "source": [
      "Installation\n",
      "------------\n",
      "\n",
      "### Debian or Ubuntu\n",
      "\n",
      "Installing ipython notebook\n",
      "```\n",
      "sudo pip install ipython ipython-notebook\n",
      "```\n",
      "\n",
      "All the things we will be using:\n",
      "```\n",
      "sudo apt-get install python-numpy python-matplotlib python-scipy\n",
      "sudo pip install statsmodels\n",
      "\n",
      "```\n",
      "\n",
      "Or you can use Anaconda too (see Windows and Mac below)\n",
      "\n",
      "### Windows and Mac\n",
      "\n",
      "Go to Anaconda site and download the appropriate distribution: [continuum.io/downloads](http://continuum.io/downloads#all). \n",
      "\n",
      "After installing Anaconda, open the terminal and type\n",
      "```\n",
      "conda update conda\n",
      "conda update ipython\n",
      "```\n",
      "\n",
      "### Arch\n",
      "\n",
      "You know how to do it.\n",
      "\n"
     ]
    },
    {
     "cell_type": "markdown",
     "metadata": {},
     "source": [
      "Starting the notebook\n",
      "---------------------\n",
      "\n",
      "\n",
      "In your terminal type\n",
      "\n",
      "```\n",
      "ipython notebook --pylab=inline\n",
      "```\n",
      "\n",
      "This will start the notebook server listening on `localhost:8888` with interactive in-place plots.\n",
      "\n",
      "If everything is fine, you will be able to go to [localhost:8888](http://localhost:8888) in your browser and see the IPython notebook folder view.\n",
      "\n",
      "Click a 'New notebook' button to create a new notebook."
     ]
    },
    {
     "cell_type": "code",
     "collapsed": false,
     "input": [
      "import numpy as np\n",
      "from scipy import stats\n",
      "from matplotlib import pyplot as plt"
     ],
     "language": "python",
     "metadata": {},
     "outputs": [],
     "prompt_number": 91
    },
    {
     "cell_type": "markdown",
     "metadata": {},
     "source": [
      "## 0\n",
      "\n",
      "Let's plot some points, lines, and labels"
     ]
    },
    {
     "cell_type": "code",
     "collapsed": false,
     "input": [
      "# Points to draw\n",
      "xs = [0.5, 0.2, 0.3]\n",
      "ys = [2,   3,   5  ]\n",
      "\n",
      "# Set horizontal limits\n",
      "plt.xlim(-1, 1)\n",
      "\n",
      "# Set vertical limits\n",
      "plt.ylim(-5, 7)\n",
      "\n",
      "# Plot the points without connecting lines, shown as red circles and labeled 'first dots'\n",
      "plt.plot(xs, ys, linestyle='', marker='o', label='first dots', color='red')\n",
      "\n",
      "# Another points to draw\n",
      "ms = [-0.8, -0.7, 0]\n",
      "ns = [-2,   -1, -2]\n",
      "\n",
      "# The same as the `plot` above, but we can control the marker size\n",
      "plt.scatter(ms, ns, s=50, marker='x', label='second dots', color='blue')\n",
      "\n",
      "# Shows the labels\n",
      "plt.legend(loc='best')\n",
      "\n",
      "plt.show()"
     ],
     "language": "python",
     "metadata": {},
     "outputs": [
      {
       "metadata": {},
       "output_type": "display_data",
       "png": "[encoded data removed]",
       "text": [
        "<matplotlib.figure.Figure at 0x7fafd0a306a0>"
       ]
      }
     ],
     "prompt_number": 72
    },
    {
     "cell_type": "code",
     "collapsed": false,
     "input": [
      "xs = np.linspace(0, 10, 1000)\n",
      "ys = np.sin(xs) + 1\n",
      "\n",
      "# Make a continuous plot\n",
      "plt.plot(xs, ys)\n",
      "\n",
      "# Let's fill the region\n",
      "plt.fill_between(xs[200:400], ys[200:400], color='pink', alpha=0.8)\n",
      "\n",
      "plt.show()"
     ],
     "language": "python",
     "metadata": {},
     "outputs": [
      {
       "metadata": {},
       "output_type": "display_data",
       "png": "[encoded data removed]",
       "text": [
        "<matplotlib.figure.Figure at 0x7fafd0a09dd8>"
       ]
      }
     ],
     "prompt_number": 89
    },
    {
     "cell_type": "markdown",
     "metadata": {},
     "source": [
      "## 1\n",
      "Generate some random data, and plot a histogram"
     ]
    },
    {
     "cell_type": "code",
     "collapsed": false,
     "input": [
      "data = np.random.randn(1000)"
     ],
     "language": "python",
     "metadata": {},
     "outputs": [],
     "prompt_number": 63
    },
    {
     "cell_type": "code",
     "collapsed": false,
     "input": [
      "plt.hist(data, bins=15, histtype='step', color='black')\n",
      "plt.xlim(-5, 5)\n",
      "plt.show()"
     ],
     "language": "python",
     "metadata": {},
     "outputs": [
      {
       "metadata": {},
       "output_type": "display_data",
       "png": "[encoded data removed]",
       "text": [
        "<matplotlib.figure.Figure at 0x7fafdb724d30>"
       ]
      }
     ],
     "prompt_number": 29
    },
    {
     "cell_type": "markdown",
     "metadata": {},
     "source": [
      "## 2"
     ]
    },
    {
     "cell_type": "code",
     "collapsed": false,
     "input": [],
     "language": "python",
     "metadata": {},
     "outputs": []
    }
   ],
   "metadata": {}
  }
 ]
}